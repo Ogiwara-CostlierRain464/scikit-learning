{
 "cells": [
  {
   "cell_type": "code",
   "execution_count": null,
   "metadata": {
    "collapsed": true,
    "pycharm": {
     "is_executing": true
    }
   },
   "outputs": [],
   "source": [
    "import itertools\n",
    "import matplotlib.pyplot as plt\n",
    "import numpy as np\n",
    "from prml.bayesnet.discrete import discrete\n",
    "\n",
    "np.random.seed(1234)\n",
    "\n",
    "b = discrete([0.1, 0.9])  # b=1: 0.1 b=0: 0.9\n",
    "f = discrete([0.1, 0.9])  # f=1: 0.1 f=0: 0.9\n",
    "\n",
    "g = discrete([\n",
    "    [[0.9, 0.8],  # b=1, f=1\n",
    "     [0.8, 0.2]], # b=1, f=0\n",
    "    [[0.1, 0.2],  # b=0, f=1 \n",
    "     [0.2, 0.8]]  # b=0, f=0\n",
    "], b, f)  # p(g|b,f)\n",
    "\n",
    "\n",
    "print(\"b: \", b)\n",
    "print(\"f: \", f)\n",
    "print(\"g: \", g)\n",
    "\n",
    "g.observe(0)\n",
    "\n",
    "print(\"b: \", b)\n",
    "print(\"f: \", f)\n",
    "print(\"g: \", g)\n",
    "\n",
    "b.observe(0)\n",
    "\n",
    "print(\"b: \", b)\n",
    "print(\"f: \", f)\n",
    "print(\"g: \", g)"
   ]
  }
 ],
 "metadata": {
  "kernelspec": {
   "display_name": "Python 3",
   "language": "python",
   "name": "python3"
  },
  "language_info": {
   "codemirror_mode": {
    "name": "ipython",
    "version": 2
   },
   "file_extension": ".py",
   "mimetype": "text/x-python",
   "name": "python",
   "nbconvert_exporter": "python",
   "pygments_lexer": "ipython2",
   "version": "2.7.6"
  },
  "pycharm": {
   "stem_cell": {
    "cell_type": "raw",
    "source": [],
    "metadata": {
     "collapsed": false
    }
   }
  }
 },
 "nbformat": 4,
 "nbformat_minor": 0
}