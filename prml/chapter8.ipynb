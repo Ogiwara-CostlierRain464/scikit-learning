{
 "cells": [
  {
   "cell_type": "code",
   "execution_count": 2,
   "metadata": {
    "collapsed": true,
    "pycharm": {
     "is_executing": false
    }
   },
   "outputs": [
    {
     "name": "stdout",
     "text": [
      "b:  DiscreteVariable(probability=[0.1 0.9])\nf:  DiscreteVariable(probability=[0.1 0.9])\ng:  DiscreteVariable(probability=[0.315 0.685])\nb:  DiscreteVariable(probability=[0.25714286 0.74285714])\nf:  DiscreteVariable(probability=[0.25714286 0.74285714])\ng:  DiscreteVariable(observed=[1. 0.])\nb:  DiscreteVariable(observed=[1. 0.])\nf:  DiscreteVariable(probability=[0.11111111 0.88888889])\ng:  DiscreteVariable(observed=[1. 0.])\n"
     ],
     "output_type": "stream"
    },
    {
     "data": {
      "text/plain": "<matplotlib.image.AxesImage at 0x11e98cf90>"
     },
     "metadata": {},
     "output_type": "execute_result",
     "execution_count": 2
    },
    {
     "data": {
      "text/plain": "<Figure size 432x288 with 1 Axes>",
      "image/png": "[encoded data removed]"
     },
     "metadata": {
      "needs_background": "light"
     },
     "output_type": "display_data"
    }
   ],
   "source": [
    "import itertools\n",
    "import matplotlib.pyplot as plt\n",
    "import numpy as np\n",
    "from prml.bayesnet.discrete import discrete, DiscreteVariable\n",
    "from neural_network.mnist import load_mnist\n",
    "\n",
    "np.random.seed(1234)\n",
    "\n",
    "b = discrete([0.1, 0.9])  # p(b=1)=0.1, p(b=2)=0.9\n",
    "f = discrete([0.1, 0.9])  # p(f=1)=0.1, p(f=2)=0.9\n",
    "\n",
    "g = discrete([\n",
    "    [[0.9, 0.8], [0.8, 0.2]], # p(g=1,b=1,f=1)=0.9, p(g=1,b=1,f=2)=0.8, p(g=1,b=2,f=1)=0.8, p(g=1,b=2,f=2)=0.2\n",
    "    [[0.1, 0.2], [0.2, 0.8]]  # p(g=2,b=1,f=1)=0.1, p(g=2,b=1,f=2)=0.2, p(g=2,b=2,f=1)=0.2, p(g=2,b=2,f=2)=0.8\n",
    "], b, f)  # p(g|b,f)\n",
    "\n",
    "print(\"b: \", b)\n",
    "print(\"f: \", f)\n",
    "print(\"g: \", g)\n",
    "\n",
    "g.observe(0)\n",
    "\n",
    "print(\"b: \", b)\n",
    "print(\"f: \", f)\n",
    "print(\"g: \", g)\n",
    "\n",
    "b.observe(0)\n",
    "\n",
    "print(\"b: \", b)\n",
    "print(\"f: \", f)\n",
    "print(\"g: \", g)\n",
    "\n",
    "(train_x, _), (_, _) = load_mnist(normalize=False)\n",
    "x = train_x[0]\n",
    "img = (x > 127).astype(np.int).reshape(28, 28)\n",
    "# plt.imshow(img, cmap=\"gray\")\n",
    "\n",
    "indices = np.random.choice(img.size, size=int(img.size * 0.1), replace=False)\n",
    "noisy_img = np.copy(img)\n",
    "noisy_img.ravel()[indices] = 1 - noisy_img.ravel()[indices]\n",
    "plt.imshow(noisy_img, cmap=\"gray\")"
   ]
  },
  {
   "cell_type": "markdown",
   "source": [
    "\n",
    "マルコフ確率場を使って、このノイズ画像を復元"
   ],
   "metadata": {
    "collapsed": false
   }
  },
  {
   "cell_type": "code",
   "execution_count": null,
   "outputs": [],
   "source": [
    "\n",
    "markov_random_field = np.array([\n",
    "    [[discrete([0.5, 0.5], name=f\"p(z_({i},{j}))\") for j in range(28)] for i in range(28)],\n",
    "    [[DiscreteVariable(2) for _ in range(28)] for _ in range(28)]\n",
    "])\n",
    "\n",
    "a = 0.9\n",
    "b = 0.9\n",
    "pa = [[a, 1-a], [1-a, a]]\n",
    "pb = [[b, 1-b], [1-b, b]]\n",
    "\n",
    "for i, j in itertools.product(range(28), range(28)):\n",
    "    discrete(pb, markov_random_field[0, i, j], out=markov_random_field[1,i,j],name=f\"p(x_({i},{j})|z_({i},{j}))\")\n",
    "    if i != 27:\n",
    "        discrete(pa, out=[markov_random_field[0,i,j],markov_random_field[0,i+1,j]],name=f\"p(z_({i},{j}), z_({i+1},{j}))\")\n",
    "    if j != 27:    \n",
    "        discrete(pa, out=[markov_random_field[0,i,j],markov_random_field[0,i,j+1]],name=f\"p(z_({i},{j}), z_({i},{j+1}))\")\n",
    "    markov_random_field[1, i, j].observe(noisy_img[i, j], prop_range=0)\n",
    "        \n",
    "\n",
    "for _ in range(1000):\n",
    "    i, j = np.random.choice(28, 2)\n",
    "    markov_random_field[1, i, j].send_message(prop_range=3)\n",
    "restored_img = np.zeros_like(noisy_img)\n",
    "for i, j in itertools.product(range(28), range(28)):\n",
    "    restored_img[i, j] = np.argmax(markov_random_field[0, i, j].probability)\n",
    "plt.imshow(restored_img, cmap=\"gray\")    \n",
    "        \n",
    "\n"
   ],
   "metadata": {
    "collapsed": false,
    "pycharm": {
     "name": "#%%\n"
    }
   }
  }
 ],
 "metadata": {
  "kernelspec": {
   "display_name": "Python 3",
   "language": "python",
   "name": "python3"
  },
  "language_info": {
   "codemirror_mode": {
    "name": "ipython",
    "version": 2
   },
   "file_extension": ".py",
   "mimetype": "text/x-python",
   "name": "python",
   "nbconvert_exporter": "python",
   "pygments_lexer": "ipython2",
   "version": "2.7.6"
  },
  "pycharm": {
   "stem_cell": {
    "cell_type": "raw",
    "source": [],
    "metadata": {
     "collapsed": false
    }
   }
  }
 },
 "nbformat": 4,
 "nbformat_minor": 0
}