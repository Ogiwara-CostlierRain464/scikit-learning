{
 "cells": [
  {
   "cell_type": "code",
   "execution_count": 1,
   "metadata": {
    "collapsed": true,
    "pycharm": {
     "is_executing": false
    }
   },
   "outputs": [
    {
     "data": {
      "text/plain": "<Figure size 640x480 with 1 Axes>"
     },
     "metadata": {},
     "output_type": "display_data"
    }
   ],
   "source": [
    "\n",
    "import numpy as np\n",
    "import matplotlib.pyplot as plt\n",
    "\n",
    "from prml.preprocess.polynomial import PolynomialFeature\n",
    "from prml.linear.bayesian_regression import BayesianRegression\n",
    "\n",
    "np.random.seed(1234)\n",
    "\n",
    "\n",
    "def create_toy_data(func, sample_size, std):\n",
    "    x = np.linspace(0, 1, sample_size)\n",
    "    t = func(x) + np.random.normal(scale=std, size=x.shape)\n",
    "    return x, t\n",
    "\n",
    "\n",
    "def func(x):\n",
    "    return np.sin(2 * np.pi * x)\n",
    "\n",
    "\n",
    "x_train, y_train = create_toy_data(func, 10, 0.25)\n",
    "x_test = np.linspace(0, 1, 100)\n",
    "y_test = func(x_test)\n",
    "\n",
    "feature = PolynomialFeature(9)\n",
    "X_train = feature.transform(x_train)\n",
    "X_test = feature.transform(x_test)\n",
    "\n",
    "model = BayesianRegression(alpha=2e-3, beta=2)\n",
    "model.fit(X_train, y_train)\n",
    "\n",
    "y, y_err = model.predict(X_test)\n",
    "\n",
    "plt.scatter(x_train, y_train, facecolor=\"none\", edgecolors=\"b\", s=50, label=\"training data\")\n",
    "plt.plot(x_test, y_test, c=\"g\", label=\"$\\sin(2\\pi x)$\")\n",
    "plt.plot(x_test, y, c=\"r\", label=\"mean\")\n",
    "plt.fill_between(x_test, y - y_err, y + y_err, color=\"pink\", label=\"std\", alpha=0.5)\n",
    "plt.xlim(-0.1, 1.1)\n",
    "plt.ylim(-1.5, 1.5)\n",
    "plt.show()\n",
    "\n"
   ]
  }
 ],
 "metadata": {
  "kernelspec": {
   "display_name": "Python 3",
   "language": "python",
   "name": "python3"
  },
  "language_info": {
   "codemirror_mode": {
    "name": "ipython",
    "version": 2
   },
   "file_extension": ".py",
   "mimetype": "text/x-python",
   "name": "python",
   "nbconvert_exporter": "python",
   "pygments_lexer": "ipython2",
   "version": "2.7.6"
  },
  "pycharm": {
   "stem_cell": {
    "cell_type": "raw",
    "source": [],
    "metadata": {
     "collapsed": false
    }
   }
  }
 },
 "nbformat": 4,
 "nbformat_minor": 0
}